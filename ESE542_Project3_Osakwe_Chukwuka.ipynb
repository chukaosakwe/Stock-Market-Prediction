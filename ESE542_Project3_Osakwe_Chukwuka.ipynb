{
 "cells": [
  {
   "cell_type": "markdown",
   "metadata": {},
   "source": [
    "# Project 4\n",
    "\n",
    "In addition to answering the bolded questions on Coursera, also attach your notebook, both as `.ipynb` and `.html`.\n",
    "\n",
    "This project should be answered using the `Weekly` data set (attached). This data contains 1,089\n",
    "weekly stock market percentage returns for 21 years, from the beginning of 1990 to the end of 2010.\n",
    "\n",
    "Details about the columns in the data are summarized below:\n",
    "\n",
    "- `Year` : The year that the observation was recorded\n",
    "- `Lag1` : Percentage return for previous week\n",
    "- `Lag2` : Percentage return for 2 weeks previous\n",
    "- `Lag3` : Percentage return for 3 weeks previous\n",
    "- `Lag4` : Percentage return for 4 weeks previous\n",
    "- `Lag5` : Percentage return for 5 weeks previous\n",
    "- `Volume` : Volume of shares traded (average number of daily shares traded in billions)\n",
    "- `Today` : Percentage return for this week\n",
    "- `Direction` : A factor with levels Down and Up indicating whether the market had a positive or negative return on a given week\n",
    "\n",
    "In this assignment, we will be using PennGrader, a Python package built by a former TA for autograding Python notebooks. PennGrader was developed to provide students with instant feedback on their answer. You can submit your answer and know whether it's right or wrong instantly. We then record your most recent answer in our backend database. You will have 100 attempts per test case, which should be more than sufficient.\n",
    "\n",
    "<b>NOTE：Please remember to remove the </b>\n",
    "\n",
    "```python\n",
    "raise notImplementedError\n",
    "```\n",
    "<b>after your implementation, otherwise the cell will not compile.</b>"
   ]
  },
  {
   "cell_type": "markdown",
   "metadata": {},
   "source": [
    "## Getting Setup\n",
    "Please run the below cells to get setup with the autograder. If you need to install packages, please copy these lines into the Terminal!"
   ]
  },
  {
   "cell_type": "code",
   "execution_count": 2,
   "metadata": {},
   "outputs": [],
   "source": [
    "# !pip install pandas==1.0.5 --user\n",
    "# pip install penngrader --user"
   ]
  },
  {
   "cell_type": "code",
   "execution_count": 3,
   "metadata": {},
   "outputs": [],
   "source": [
    "# pip install seaborn --user\n",
    "# pip install scikit-learn --user\n",
    "# pip install statsmodels --user"
   ]
  },
  {
   "cell_type": "markdown",
   "metadata": {},
   "source": [
    "Let's try PennGrader out! Fill in the cell below with your PennID and then run the following cell to initialize the grader.\n",
    "\n",
    "<font color='red'>Warning:</font> Please make sure you only have one copy of the student notebook in your directory in Codio upon submission. The autograder looks for the variable `STUDENT_ID` across all notebooks, so if there is a duplicate notebook, it will fail."
   ]
  },
  {
   "cell_type": "code",
   "execution_count": 4,
   "metadata": {},
   "outputs": [],
   "source": [
    "#PLEASE ENSURE YOUR STUDENT_ID IS ENTERED AS AN INT (NOT A STRING). IF NOT, THE AUTOGRADER WON'T KNOW WHO \n",
    "#TO ASSIGN POINTS TO YOU IN OUR BACKEND\n",
    "\n",
    "STUDENT_ID = 59816498                   # YOUR 8-DIGIT PENNID GOES HERE\n",
    "STUDENT_NAME = \"Chukwuka Osakwe\"     # YOUR FULL NAME GOES HERE"
   ]
  },
  {
   "cell_type": "code",
   "execution_count": 5,
   "metadata": {},
   "outputs": [],
   "source": [
    "import penngrader.grader\n",
    "\n",
    "grader = penngrader.grader.PennGrader(homework_id = 'ESE542_Online_Spring_2021_HW4', student_id = STUDENT_ID)"
   ]
  },
  {
   "cell_type": "code",
   "execution_count": 6,
   "metadata": {},
   "outputs": [],
   "source": [
    "# Let's import the relevant Python packages here\n",
    "# Feel free to import any other packages for this project\n",
    "\n",
    "# Data Wrangling\n",
    "import pandas as pd\n",
    "import numpy as np\n",
    "\n",
    "# Statistics\n",
    "import statsmodels.formula.api as smf\n",
    "import statsmodels.api as sm\n",
    "\n",
    "# Plotting\n",
    "import matplotlib.pyplot as plt\n",
    "\n",
    "%matplotlib inline"
   ]
  },
  {
   "cell_type": "markdown",
   "metadata": {},
   "source": [
    "We're also going to run a quick (0-point) check that the pandas version set up here is correct. If you fail this, please open a Terminal window and run `pip install pandas==1.0.5 --user` otherwise none of the tests will work!"
   ]
  },
  {
   "cell_type": "code",
   "execution_count": 7,
   "metadata": {},
   "outputs": [
    {
     "name": "stdout",
     "output_type": "stream",
     "text": [
      "You earned -0.01/0 points.\n",
      "\n",
      "But, don't worry you can re-submit and we will keep only your latest score.\n"
     ]
    }
   ],
   "source": [
    "grader.grade(test_case_id = 'A0_pandas_test', answer = str(pd.__version__))"
   ]
  },
  {
   "cell_type": "markdown",
   "metadata": {},
   "source": [
    "## Part A\n",
    "\n",
    "We are first interested in trying to predict the direction of the returns.\n",
    "\n",
    "To start, load `Weekly.csv` into your notebook."
   ]
  },
  {
   "cell_type": "code",
   "execution_count": 8,
   "metadata": {},
   "outputs": [
    {
     "data": {
      "text/html": [
       "<div>\n",
       "<style scoped>\n",
       "    .dataframe tbody tr th:only-of-type {\n",
       "        vertical-align: middle;\n",
       "    }\n",
       "\n",
       "    .dataframe tbody tr th {\n",
       "        vertical-align: top;\n",
       "    }\n",
       "\n",
       "    .dataframe thead th {\n",
       "        text-align: right;\n",
       "    }\n",
       "</style>\n",
       "<table border=\"1\" class=\"dataframe\">\n",
       "  <thead>\n",
       "    <tr style=\"text-align: right;\">\n",
       "      <th></th>\n",
       "      <th>Year</th>\n",
       "      <th>Lag1</th>\n",
       "      <th>Lag2</th>\n",
       "      <th>Lag3</th>\n",
       "      <th>Lag4</th>\n",
       "      <th>Lag5</th>\n",
       "      <th>Volume</th>\n",
       "      <th>Today</th>\n",
       "      <th>Direction</th>\n",
       "    </tr>\n",
       "  </thead>\n",
       "  <tbody>\n",
       "    <tr>\n",
       "      <th>0</th>\n",
       "      <td>1990</td>\n",
       "      <td>0.816</td>\n",
       "      <td>1.572</td>\n",
       "      <td>-3.936</td>\n",
       "      <td>-0.229</td>\n",
       "      <td>-3.484</td>\n",
       "      <td>0.154976</td>\n",
       "      <td>-0.270</td>\n",
       "      <td>Down</td>\n",
       "    </tr>\n",
       "    <tr>\n",
       "      <th>1</th>\n",
       "      <td>1990</td>\n",
       "      <td>-0.270</td>\n",
       "      <td>0.816</td>\n",
       "      <td>1.572</td>\n",
       "      <td>-3.936</td>\n",
       "      <td>-0.229</td>\n",
       "      <td>0.148574</td>\n",
       "      <td>-2.576</td>\n",
       "      <td>Down</td>\n",
       "    </tr>\n",
       "    <tr>\n",
       "      <th>2</th>\n",
       "      <td>1990</td>\n",
       "      <td>-2.576</td>\n",
       "      <td>-0.270</td>\n",
       "      <td>0.816</td>\n",
       "      <td>1.572</td>\n",
       "      <td>-3.936</td>\n",
       "      <td>0.159837</td>\n",
       "      <td>3.514</td>\n",
       "      <td>Up</td>\n",
       "    </tr>\n",
       "    <tr>\n",
       "      <th>3</th>\n",
       "      <td>1990</td>\n",
       "      <td>3.514</td>\n",
       "      <td>-2.576</td>\n",
       "      <td>-0.270</td>\n",
       "      <td>0.816</td>\n",
       "      <td>1.572</td>\n",
       "      <td>0.161630</td>\n",
       "      <td>0.712</td>\n",
       "      <td>Up</td>\n",
       "    </tr>\n",
       "    <tr>\n",
       "      <th>4</th>\n",
       "      <td>1990</td>\n",
       "      <td>0.712</td>\n",
       "      <td>3.514</td>\n",
       "      <td>-2.576</td>\n",
       "      <td>-0.270</td>\n",
       "      <td>0.816</td>\n",
       "      <td>0.153728</td>\n",
       "      <td>1.178</td>\n",
       "      <td>Up</td>\n",
       "    </tr>\n",
       "  </tbody>\n",
       "</table>\n",
       "</div>"
      ],
      "text/plain": [
       "   Year   Lag1   Lag2   Lag3   Lag4   Lag5    Volume  Today Direction\n",
       "0  1990  0.816  1.572 -3.936 -0.229 -3.484  0.154976 -0.270      Down\n",
       "1  1990 -0.270  0.816  1.572 -3.936 -0.229  0.148574 -2.576      Down\n",
       "2  1990 -2.576 -0.270  0.816  1.572 -3.936  0.159837  3.514        Up\n",
       "3  1990  3.514 -2.576 -0.270  0.816  1.572  0.161630  0.712        Up\n",
       "4  1990  0.712  3.514 -2.576 -0.270  0.816  0.153728  1.178        Up"
      ]
     },
     "execution_count": 8,
     "metadata": {},
     "output_type": "execute_result"
    }
   ],
   "source": [
    "weekly = pd.read_csv(\"Weekly.csv\")\n",
    "weekly.head()"
   ]
  },
  {
   "cell_type": "code",
   "execution_count": 9,
   "metadata": {},
   "outputs": [
    {
     "name": "stdout",
     "output_type": "stream",
     "text": [
      "Correct! You earned 2/2 points. You are a star!\n",
      "\n",
      "Your submission has been successfully recorded in the gradebook.\n"
     ]
    }
   ],
   "source": [
    "grader.grade(test_case_id = 'A0_weekly_test', answer = weekly)"
   ]
  },
  {
   "cell_type": "markdown",
   "metadata": {},
   "source": [
    "### A1.\n",
    "\n",
    "First, transform our `Direction` variable into a numerical feature that is equal to 1 if `Direction = Up`. Then, pass the dataframe into the test case to make sure it's working properly!"
   ]
  },
  {
   "cell_type": "code",
   "execution_count": 10,
   "metadata": {},
   "outputs": [
    {
     "data": {
      "text/html": [
       "<div>\n",
       "<style scoped>\n",
       "    .dataframe tbody tr th:only-of-type {\n",
       "        vertical-align: middle;\n",
       "    }\n",
       "\n",
       "    .dataframe tbody tr th {\n",
       "        vertical-align: top;\n",
       "    }\n",
       "\n",
       "    .dataframe thead th {\n",
       "        text-align: right;\n",
       "    }\n",
       "</style>\n",
       "<table border=\"1\" class=\"dataframe\">\n",
       "  <thead>\n",
       "    <tr style=\"text-align: right;\">\n",
       "      <th></th>\n",
       "      <th>Year</th>\n",
       "      <th>Lag1</th>\n",
       "      <th>Lag2</th>\n",
       "      <th>Lag3</th>\n",
       "      <th>Lag4</th>\n",
       "      <th>Lag5</th>\n",
       "      <th>Volume</th>\n",
       "      <th>Today</th>\n",
       "      <th>Direction</th>\n",
       "    </tr>\n",
       "  </thead>\n",
       "  <tbody>\n",
       "    <tr>\n",
       "      <th>0</th>\n",
       "      <td>1990</td>\n",
       "      <td>0.816</td>\n",
       "      <td>1.572</td>\n",
       "      <td>-3.936</td>\n",
       "      <td>-0.229</td>\n",
       "      <td>-3.484</td>\n",
       "      <td>0.154976</td>\n",
       "      <td>-0.270</td>\n",
       "      <td>0</td>\n",
       "    </tr>\n",
       "    <tr>\n",
       "      <th>1</th>\n",
       "      <td>1990</td>\n",
       "      <td>-0.270</td>\n",
       "      <td>0.816</td>\n",
       "      <td>1.572</td>\n",
       "      <td>-3.936</td>\n",
       "      <td>-0.229</td>\n",
       "      <td>0.148574</td>\n",
       "      <td>-2.576</td>\n",
       "      <td>0</td>\n",
       "    </tr>\n",
       "    <tr>\n",
       "      <th>2</th>\n",
       "      <td>1990</td>\n",
       "      <td>-2.576</td>\n",
       "      <td>-0.270</td>\n",
       "      <td>0.816</td>\n",
       "      <td>1.572</td>\n",
       "      <td>-3.936</td>\n",
       "      <td>0.159837</td>\n",
       "      <td>3.514</td>\n",
       "      <td>1</td>\n",
       "    </tr>\n",
       "    <tr>\n",
       "      <th>3</th>\n",
       "      <td>1990</td>\n",
       "      <td>3.514</td>\n",
       "      <td>-2.576</td>\n",
       "      <td>-0.270</td>\n",
       "      <td>0.816</td>\n",
       "      <td>1.572</td>\n",
       "      <td>0.161630</td>\n",
       "      <td>0.712</td>\n",
       "      <td>1</td>\n",
       "    </tr>\n",
       "    <tr>\n",
       "      <th>4</th>\n",
       "      <td>1990</td>\n",
       "      <td>0.712</td>\n",
       "      <td>3.514</td>\n",
       "      <td>-2.576</td>\n",
       "      <td>-0.270</td>\n",
       "      <td>0.816</td>\n",
       "      <td>0.153728</td>\n",
       "      <td>1.178</td>\n",
       "      <td>1</td>\n",
       "    </tr>\n",
       "    <tr>\n",
       "      <th>...</th>\n",
       "      <td>...</td>\n",
       "      <td>...</td>\n",
       "      <td>...</td>\n",
       "      <td>...</td>\n",
       "      <td>...</td>\n",
       "      <td>...</td>\n",
       "      <td>...</td>\n",
       "      <td>...</td>\n",
       "      <td>...</td>\n",
       "    </tr>\n",
       "    <tr>\n",
       "      <th>1084</th>\n",
       "      <td>2010</td>\n",
       "      <td>-0.861</td>\n",
       "      <td>0.043</td>\n",
       "      <td>-2.173</td>\n",
       "      <td>3.599</td>\n",
       "      <td>0.015</td>\n",
       "      <td>3.205160</td>\n",
       "      <td>2.969</td>\n",
       "      <td>1</td>\n",
       "    </tr>\n",
       "    <tr>\n",
       "      <th>1085</th>\n",
       "      <td>2010</td>\n",
       "      <td>2.969</td>\n",
       "      <td>-0.861</td>\n",
       "      <td>0.043</td>\n",
       "      <td>-2.173</td>\n",
       "      <td>3.599</td>\n",
       "      <td>4.242568</td>\n",
       "      <td>1.281</td>\n",
       "      <td>1</td>\n",
       "    </tr>\n",
       "    <tr>\n",
       "      <th>1086</th>\n",
       "      <td>2010</td>\n",
       "      <td>1.281</td>\n",
       "      <td>2.969</td>\n",
       "      <td>-0.861</td>\n",
       "      <td>0.043</td>\n",
       "      <td>-2.173</td>\n",
       "      <td>4.835082</td>\n",
       "      <td>0.283</td>\n",
       "      <td>1</td>\n",
       "    </tr>\n",
       "    <tr>\n",
       "      <th>1087</th>\n",
       "      <td>2010</td>\n",
       "      <td>0.283</td>\n",
       "      <td>1.281</td>\n",
       "      <td>2.969</td>\n",
       "      <td>-0.861</td>\n",
       "      <td>0.043</td>\n",
       "      <td>4.454044</td>\n",
       "      <td>1.034</td>\n",
       "      <td>1</td>\n",
       "    </tr>\n",
       "    <tr>\n",
       "      <th>1088</th>\n",
       "      <td>2010</td>\n",
       "      <td>1.034</td>\n",
       "      <td>0.283</td>\n",
       "      <td>1.281</td>\n",
       "      <td>2.969</td>\n",
       "      <td>-0.861</td>\n",
       "      <td>2.707105</td>\n",
       "      <td>0.069</td>\n",
       "      <td>1</td>\n",
       "    </tr>\n",
       "  </tbody>\n",
       "</table>\n",
       "<p>1089 rows × 9 columns</p>\n",
       "</div>"
      ],
      "text/plain": [
       "      Year   Lag1   Lag2   Lag3   Lag4   Lag5    Volume  Today  Direction\n",
       "0     1990  0.816  1.572 -3.936 -0.229 -3.484  0.154976 -0.270          0\n",
       "1     1990 -0.270  0.816  1.572 -3.936 -0.229  0.148574 -2.576          0\n",
       "2     1990 -2.576 -0.270  0.816  1.572 -3.936  0.159837  3.514          1\n",
       "3     1990  3.514 -2.576 -0.270  0.816  1.572  0.161630  0.712          1\n",
       "4     1990  0.712  3.514 -2.576 -0.270  0.816  0.153728  1.178          1\n",
       "...    ...    ...    ...    ...    ...    ...       ...    ...        ...\n",
       "1084  2010 -0.861  0.043 -2.173  3.599  0.015  3.205160  2.969          1\n",
       "1085  2010  2.969 -0.861  0.043 -2.173  3.599  4.242568  1.281          1\n",
       "1086  2010  1.281  2.969 -0.861  0.043 -2.173  4.835082  0.283          1\n",
       "1087  2010  0.283  1.281  2.969 -0.861  0.043  4.454044  1.034          1\n",
       "1088  2010  1.034  0.283  1.281  2.969 -0.861  2.707105  0.069          1\n",
       "\n",
       "[1089 rows x 9 columns]"
      ]
     },
     "execution_count": 10,
     "metadata": {},
     "output_type": "execute_result"
    }
   ],
   "source": [
    "# First we encode the qualitative variable direction into a binary 1 for Up 0 for Down\n",
    "encode = lambda x: 1 if x == \"Up\" else 0\n",
    "\n",
    "weekly[\"Direction\"] = weekly[\"Direction\"].apply(encode)\n",
    "weekly"
   ]
  },
  {
   "cell_type": "code",
   "execution_count": 11,
   "metadata": {},
   "outputs": [
    {
     "name": "stdout",
     "output_type": "stream",
     "text": [
      "Correct! You earned 1/1 points. You are a star!\n",
      "\n",
      "Your submission has been successfully recorded in the gradebook.\n"
     ]
    }
   ],
   "source": [
    "grader.grade(test_case_id = 'A1_direction_test', answer = weekly)"
   ]
  },
  {
   "cell_type": "markdown",
   "metadata": {},
   "source": [
    "Produce some numerical and graphical summaries of the `Weekly` data. Do there appear to be any patterns?"
   ]
  },
  {
   "cell_type": "code",
   "execution_count": 12,
   "metadata": {},
   "outputs": [
    {
     "name": "stdout",
     "output_type": "stream",
     "text": [
      "               Year      Lag1      Lag2      Lag3      Lag4      Lag5  \\\n",
      "Year       1.000000 -0.032289 -0.033390 -0.030006 -0.031128 -0.030519   \n",
      "Lag1      -0.032289  1.000000 -0.074853  0.058636 -0.071274 -0.008183   \n",
      "Lag2      -0.033390 -0.074853  1.000000 -0.075721  0.058382 -0.072499   \n",
      "Lag3      -0.030006  0.058636 -0.075721  1.000000 -0.075396  0.060657   \n",
      "Lag4      -0.031128 -0.071274  0.058382 -0.075396  1.000000 -0.075675   \n",
      "Lag5      -0.030519 -0.008183 -0.072499  0.060657 -0.075675  1.000000   \n",
      "Volume     0.841942 -0.064951 -0.085513 -0.069288 -0.061075 -0.058517   \n",
      "Today     -0.032460 -0.075032  0.059167 -0.071244 -0.007826  0.011013   \n",
      "Direction -0.022200 -0.050004  0.072696 -0.022913 -0.020549 -0.018168   \n",
      "\n",
      "             Volume     Today  Direction  \n",
      "Year       0.841942 -0.032460  -0.022200  \n",
      "Lag1      -0.064951 -0.075032  -0.050004  \n",
      "Lag2      -0.085513  0.059167   0.072696  \n",
      "Lag3      -0.069288 -0.071244  -0.022913  \n",
      "Lag4      -0.061075 -0.007826  -0.020549  \n",
      "Lag5      -0.058517  0.011013  -0.018168  \n",
      "Volume     1.000000 -0.033078  -0.017995  \n",
      "Today     -0.033078  1.000000   0.720025  \n",
      "Direction -0.017995  0.720025   1.000000  \n"
     ]
    },
    {
     "data": {
      "image/png": "[encoded data removed]",
      "text/plain": [
       "<Figure size 432x288 with 81 Axes>"
      ]
     },
     "metadata": {
      "needs_background": "light"
     },
     "output_type": "display_data"
    }
   ],
   "source": [
    "# plot matrix of pairwise scatter plots to see relationships in the data\n",
    "axes = pd.plotting.scatter_matrix(weekly)\n",
    "print(weekly.corr())"
   ]
  },
  {
   "cell_type": "markdown",
   "metadata": {},
   "source": [
    "Include a brief description of what relationshipis and correlations you find."
   ]
  },
  {
   "cell_type": "code",
   "execution_count": 13,
   "metadata": {},
   "outputs": [],
   "source": [
    "relationships = '''\n",
    "there appears to be a correlation between year and volume. No other clear relationship between the variable\n",
    "'''"
   ]
  },
  {
   "cell_type": "code",
   "execution_count": 14,
   "metadata": {},
   "outputs": [
    {
     "name": "stdout",
     "output_type": "stream",
     "text": [
      "Correct! You earned 1/1 points. You are a star!\n",
      "\n",
      "Your submission has been successfully recorded in the gradebook.\n"
     ]
    }
   ],
   "source": [
    "grader.grade(test_case_id = 'A1_relationships_test', answer = relationships)"
   ]
  },
  {
   "cell_type": "markdown",
   "metadata": {},
   "source": [
    "### A2.\n",
    "\n",
    "Use the full data set to perform a logistic regression with `Direction` as the response and the\n",
    "five lag variables as predictors."
   ]
  },
  {
   "cell_type": "code",
   "execution_count": 20,
   "metadata": {
    "scrolled": false
   },
   "outputs": [
    {
     "name": "stdout",
     "output_type": "stream",
     "text": [
      "                 Generalized Linear Model Regression Results                  \n",
      "==============================================================================\n",
      "Dep. Variable:              Direction   No. Observations:                 1089\n",
      "Model:                            GLM   Df Residuals:                     1083\n",
      "Model Family:                Binomial   Df Model:                            5\n",
      "Link Function:                  logit   Scale:                          1.0000\n",
      "Method:                          IRLS   Log-Likelihood:                -743.37\n",
      "Date:                Tue, 09 Feb 2021   Deviance:                       1486.7\n",
      "Time:                        19:59:47   Pearson chi2:                 1.09e+03\n",
      "No. Iterations:                     4                                         \n",
      "Covariance Type:            nonrobust                                         \n",
      "==============================================================================\n",
      "                 coef    std err          z      P>|z|      [0.025      0.975]\n",
      "------------------------------------------------------------------------------\n",
      "Intercept      0.2303      0.062      3.712      0.000       0.109       0.352\n",
      "Lag1          -0.0401      0.026     -1.522      0.128      -0.092       0.012\n",
      "Lag2           0.0602      0.027      2.249      0.025       0.008       0.113\n",
      "Lag3          -0.0151      0.027     -0.566      0.571      -0.067       0.037\n",
      "Lag4          -0.0268      0.026     -1.013      0.311      -0.079       0.025\n",
      "Lag5          -0.0135      0.026     -0.512      0.609      -0.065       0.038\n",
      "==============================================================================\n"
     ]
    }
   ],
   "source": [
    "# run a logistic regression\n",
    "fit1 = smf.glm(\"Direction~ Lag1+Lag2+Lag3+Lag4+Lag5\", data= weekly, family=sm.families.Binomial()).fit()\n",
    "print(fit1.summary())"
   ]
  },
  {
   "cell_type": "markdown",
   "metadata": {},
   "source": [
    "Pass in the regression equation to `logit_equation` below. Hint: You do not need the coefficients of the equation yet, just which variables you want to include in the model. Your answer should look something like `Response~Var1+Var2` which is the input for `statsmodels.formula.api`. "
   ]
  },
  {
   "cell_type": "code",
   "execution_count": 29,
   "metadata": {},
   "outputs": [],
   "source": [
    "logit_equation = \"Direction~Lag1+Lag2+Lag3+Lag4+Lag5\""
   ]
  },
  {
   "cell_type": "code",
   "execution_count": 30,
   "metadata": {},
   "outputs": [
    {
     "name": "stdout",
     "output_type": "stream",
     "text": [
      "Correct! You earned 2/2 points. You are a star!\n",
      "\n",
      "Your submission has been successfully recorded in the gradebook.\n"
     ]
    }
   ],
   "source": [
    "grader.grade(test_case_id = 'A2_logit_test', answer = logit_equation)"
   ]
  },
  {
   "cell_type": "markdown",
   "metadata": {},
   "source": [
    "### A3.\n",
    "\n",
    "Use the `summary()` function to print the results. Do any of the predictors appear to be\n",
    "statistically significant? Which predictors appear to be statistically significant?"
   ]
  },
  {
   "cell_type": "code",
   "execution_count": 31,
   "metadata": {},
   "outputs": [
    {
     "name": "stdout",
     "output_type": "stream",
     "text": [
      "                 Generalized Linear Model Regression Results                  \n",
      "==============================================================================\n",
      "Dep. Variable:              Direction   No. Observations:                 1089\n",
      "Model:                            GLM   Df Residuals:                     1083\n",
      "Model Family:                Binomial   Df Model:                            5\n",
      "Link Function:                  logit   Scale:                          1.0000\n",
      "Method:                          IRLS   Log-Likelihood:                -743.37\n",
      "Date:                Tue, 09 Feb 2021   Deviance:                       1486.7\n",
      "Time:                        20:01:56   Pearson chi2:                 1.09e+03\n",
      "No. Iterations:                     4                                         \n",
      "Covariance Type:            nonrobust                                         \n",
      "==============================================================================\n",
      "                 coef    std err          z      P>|z|      [0.025      0.975]\n",
      "------------------------------------------------------------------------------\n",
      "Intercept      0.2303      0.062      3.712      0.000       0.109       0.352\n",
      "Lag1          -0.0401      0.026     -1.522      0.128      -0.092       0.012\n",
      "Lag2           0.0602      0.027      2.249      0.025       0.008       0.113\n",
      "Lag3          -0.0151      0.027     -0.566      0.571      -0.067       0.037\n",
      "Lag4          -0.0268      0.026     -1.013      0.311      -0.079       0.025\n",
      "Lag5          -0.0135      0.026     -0.512      0.609      -0.065       0.038\n",
      "==============================================================================\n"
     ]
    }
   ],
   "source": [
    "print(fit1.summary())"
   ]
  },
  {
   "cell_type": "markdown",
   "metadata": {},
   "source": [
    "Type the number of apparently significant variables into `num_significant` and the names of the variables into the list `var_significant` -- the test case will only give points if both variables are correct!"
   ]
  },
  {
   "cell_type": "code",
   "execution_count": 34,
   "metadata": {},
   "outputs": [],
   "source": [
    "num_significant = 1\n",
    "var_significant = [\"Lag2\"] # This should be a list!"
   ]
  },
  {
   "cell_type": "code",
   "execution_count": 35,
   "metadata": {},
   "outputs": [
    {
     "name": "stdout",
     "output_type": "stream",
     "text": [
      "Correct! You earned 2/2 points. You are a star!\n",
      "\n",
      "Your submission has been successfully recorded in the gradebook.\n"
     ]
    }
   ],
   "source": [
    "grader.grade(test_case_id = 'A3_significant_test', answer = (num_significant, var_significant))"
   ]
  },
  {
   "cell_type": "markdown",
   "metadata": {},
   "source": [
    "### A4. \n",
    "Compute the overall fraction of correct predictions. Name this variable `fraction_correct_all`.\n",
    "What is the overall fraction of correct predictions?"
   ]
  },
  {
   "cell_type": "code",
   "execution_count": 47,
   "metadata": {},
   "outputs": [
    {
     "data": {
      "text/plain": [
       "0.5629017447199265"
      ]
     },
     "execution_count": 47,
     "metadata": {},
     "output_type": "execute_result"
    }
   ],
   "source": [
    "from sklearn.metrics import accuracy_score\n",
    "encode = lambda x: 1 if x > 0.5 else 0\n",
    "predictions = pd.DataFrame({\"Direction\" : [encode(x) for x in fit1.predict()]})\n",
    "predictions.head()\n",
    "\n",
    "fraction_correct_all = accuracy_score(weekly[\"Direction\"], predictions[\"Direction\"])\n",
    "fraction_correct_all"
   ]
  },
  {
   "cell_type": "code",
   "execution_count": 48,
   "metadata": {},
   "outputs": [
    {
     "name": "stdout",
     "output_type": "stream",
     "text": [
      "Overall fraction of correct predictions is 0.5629017447199265\n"
     ]
    }
   ],
   "source": [
    "print(f'Overall fraction of correct predictions is {fraction_correct_all}')"
   ]
  },
  {
   "cell_type": "code",
   "execution_count": 49,
   "metadata": {},
   "outputs": [
    {
     "name": "stdout",
     "output_type": "stream",
     "text": [
      "Correct! You earned 2/2 points. You are a star!\n",
      "\n",
      "Your submission has been successfully recorded in the gradebook.\n"
     ]
    }
   ],
   "source": [
    "grader.grade(test_case_id = 'A4_fraction_test', answer = fraction_correct_all)"
   ]
  },
  {
   "cell_type": "markdown",
   "metadata": {},
   "source": [
    "### A5.\n",
    "\n",
    "Now fit the logistic regression model using a training data period from 1990 to 2007, with\n",
    "`Lag2` as the only predictor. \n",
    "\n",
    "Compute the overall fraction of correct predictions for the held\n",
    "out data (that is, the data from 2008, 2009 and 2010) and assign it to a variable called\n",
    "`fraction_correct_test`. What is the overall fraction of correct predictions?"
   ]
  },
  {
   "cell_type": "code",
   "execution_count": 63,
   "metadata": {},
   "outputs": [
    {
     "name": "stdout",
     "output_type": "stream",
     "text": [
      "                 Generalized Linear Model Regression Results                  \n",
      "==============================================================================\n",
      "Dep. Variable:              Direction   No. Observations:                  933\n",
      "Model:                            GLM   Df Residuals:                      931\n",
      "Model Family:                Binomial   Df Model:                            1\n",
      "Link Function:                  logit   Scale:                          1.0000\n",
      "Method:                          IRLS   Log-Likelihood:                -639.25\n",
      "Date:                Tue, 09 Feb 2021   Deviance:                       1278.5\n",
      "Time:                        20:38:03   Pearson chi2:                     933.\n",
      "No. Iterations:                     4                                         \n",
      "Covariance Type:            nonrobust                                         \n",
      "==============================================================================\n",
      "                 coef    std err          z      P>|z|      [0.025      0.975]\n",
      "------------------------------------------------------------------------------\n",
      "Intercept      0.2266      0.066      3.422      0.001       0.097       0.356\n",
      "Lag2           0.0472      0.032      1.460      0.144      -0.016       0.110\n",
      "==============================================================================\n",
      "-------\n",
      "933     0.551721\n",
      "934     0.503337\n",
      "935     0.547636\n",
      "936     0.492846\n",
      "937     0.561160\n",
      "          ...   \n",
      "1084    0.556905\n",
      "1085    0.546362\n",
      "1086    0.590634\n",
      "1087    0.571259\n",
      "1088    0.559696\n",
      "Length: 156, dtype: float64\n"
     ]
    }
   ],
   "source": [
    "# Train and test split\n",
    "train_filter_list =[\"1990\",\"1991\",\"1992\",\"1993\",\"1994\",\"1995\",\"1996\",\"1997\",\"1998\",\"1999\",\"2000\",\"2001\",\"2002\",\"2003\",\"2004\",\"2005\",\"2006\",\"2007\"]\n",
    "test_filter_list =[\"2008\",\"2009\",\"2010\"]\n",
    "\n",
    "train = weekly[weekly[\"Year\"].isin(train_filter_list)]\n",
    "test = weekly[weekly[\"Year\"].isin(test_filter_list)]\n",
    "# Model \n",
    "\n",
    "# fit regression with training data from 1990 to 2007\n",
    "fit2 = smf.glm(\"Direction~ Lag2\", data= train, family=sm.families.Binomial()).fit()\n",
    "print(fit2.summary())\n",
    "\n",
    "# find the predictions for each line in the test set\n",
    "yprobs = fit2.predict(test[\"Lag2\"])\n",
    "print(\"-------\")\n",
    "print(yprobs)\n",
    "\n",
    "# calculate predictions on test set\n",
    "ypred = [0 if y<0.5 else 1 for y in yprobs]"
   ]
  },
  {
   "cell_type": "code",
   "execution_count": 64,
   "metadata": {},
   "outputs": [],
   "source": [
    "fraction_correct_test = accuracy_score(test[\"Direction\"],ypred)"
   ]
  },
  {
   "cell_type": "code",
   "execution_count": 65,
   "metadata": {},
   "outputs": [
    {
     "name": "stdout",
     "output_type": "stream",
     "text": [
      "Overall fraction of correct predictions is 0.5512820512820513\n"
     ]
    }
   ],
   "source": [
    "print(f'Overall fraction of correct predictions is {fraction_correct_test}')"
   ]
  },
  {
   "cell_type": "markdown",
   "metadata": {},
   "source": [
    "Pass in the train and test datasets to make sure that they're working (feel free to rename the variables in the test case), and then run the test for `fraction_correct_test`!"
   ]
  },
  {
   "cell_type": "code",
   "execution_count": 66,
   "metadata": {},
   "outputs": [
    {
     "name": "stdout",
     "output_type": "stream",
     "text": [
      "Correct! You earned 1/1 points. You are a star!\n",
      "\n",
      "Your submission has been successfully recorded in the gradebook.\n"
     ]
    }
   ],
   "source": [
    "grader.grade(test_case_id = 'A5_df_test', answer = (train, test)) "
   ]
  },
  {
   "cell_type": "code",
   "execution_count": 67,
   "metadata": {},
   "outputs": [
    {
     "name": "stdout",
     "output_type": "stream",
     "text": [
      "Correct! You earned 2/2 points. You are a star!\n",
      "\n",
      "Your submission has been successfully recorded in the gradebook.\n"
     ]
    }
   ],
   "source": [
    "grader.grade(test_case_id = 'A5_fraction_correct_test', answer = fraction_correct_test) "
   ]
  },
  {
   "cell_type": "markdown",
   "metadata": {},
   "source": [
    "## Part B\n",
    "\n",
    "Now, we want to develop an investment strategy in which we buy if the returns are greater than\n",
    "$0.5\\%$ and sell otherwise.\n",
    "\n",
    "### B1. \n",
    "Create a response variable, `y_i` such that\n",
    "\n",
    "$$\n",
    "y_i = \\begin{cases}\n",
    "1 \\text{ if Today } > 0.5 &\\\\\n",
    "0 \\text{ otherwise }\n",
    "\\end{cases}\n",
    "$$"
   ]
  },
  {
   "cell_type": "code",
   "execution_count": 74,
   "metadata": {},
   "outputs": [
    {
     "data": {
      "text/html": [
       "<div>\n",
       "<style scoped>\n",
       "    .dataframe tbody tr th:only-of-type {\n",
       "        vertical-align: middle;\n",
       "    }\n",
       "\n",
       "    .dataframe tbody tr th {\n",
       "        vertical-align: top;\n",
       "    }\n",
       "\n",
       "    .dataframe thead th {\n",
       "        text-align: right;\n",
       "    }\n",
       "</style>\n",
       "<table border=\"1\" class=\"dataframe\">\n",
       "  <thead>\n",
       "    <tr style=\"text-align: right;\">\n",
       "      <th></th>\n",
       "      <th>Year</th>\n",
       "      <th>Lag1</th>\n",
       "      <th>Lag2</th>\n",
       "      <th>Lag3</th>\n",
       "      <th>Lag4</th>\n",
       "      <th>Lag5</th>\n",
       "      <th>Volume</th>\n",
       "      <th>Today</th>\n",
       "      <th>Direction</th>\n",
       "      <th>y_i</th>\n",
       "      <th>Response</th>\n",
       "    </tr>\n",
       "  </thead>\n",
       "  <tbody>\n",
       "    <tr>\n",
       "      <th>0</th>\n",
       "      <td>1990</td>\n",
       "      <td>0.816</td>\n",
       "      <td>1.572</td>\n",
       "      <td>-3.936</td>\n",
       "      <td>-0.229</td>\n",
       "      <td>-3.484</td>\n",
       "      <td>0.154976</td>\n",
       "      <td>-0.270</td>\n",
       "      <td>0</td>\n",
       "      <td>0</td>\n",
       "      <td>0</td>\n",
       "    </tr>\n",
       "    <tr>\n",
       "      <th>1</th>\n",
       "      <td>1990</td>\n",
       "      <td>-0.270</td>\n",
       "      <td>0.816</td>\n",
       "      <td>1.572</td>\n",
       "      <td>-3.936</td>\n",
       "      <td>-0.229</td>\n",
       "      <td>0.148574</td>\n",
       "      <td>-2.576</td>\n",
       "      <td>0</td>\n",
       "      <td>0</td>\n",
       "      <td>0</td>\n",
       "    </tr>\n",
       "    <tr>\n",
       "      <th>2</th>\n",
       "      <td>1990</td>\n",
       "      <td>-2.576</td>\n",
       "      <td>-0.270</td>\n",
       "      <td>0.816</td>\n",
       "      <td>1.572</td>\n",
       "      <td>-3.936</td>\n",
       "      <td>0.159837</td>\n",
       "      <td>3.514</td>\n",
       "      <td>1</td>\n",
       "      <td>1</td>\n",
       "      <td>1</td>\n",
       "    </tr>\n",
       "    <tr>\n",
       "      <th>3</th>\n",
       "      <td>1990</td>\n",
       "      <td>3.514</td>\n",
       "      <td>-2.576</td>\n",
       "      <td>-0.270</td>\n",
       "      <td>0.816</td>\n",
       "      <td>1.572</td>\n",
       "      <td>0.161630</td>\n",
       "      <td>0.712</td>\n",
       "      <td>1</td>\n",
       "      <td>1</td>\n",
       "      <td>1</td>\n",
       "    </tr>\n",
       "    <tr>\n",
       "      <th>4</th>\n",
       "      <td>1990</td>\n",
       "      <td>0.712</td>\n",
       "      <td>3.514</td>\n",
       "      <td>-2.576</td>\n",
       "      <td>-0.270</td>\n",
       "      <td>0.816</td>\n",
       "      <td>0.153728</td>\n",
       "      <td>1.178</td>\n",
       "      <td>1</td>\n",
       "      <td>1</td>\n",
       "      <td>1</td>\n",
       "    </tr>\n",
       "    <tr>\n",
       "      <th>...</th>\n",
       "      <td>...</td>\n",
       "      <td>...</td>\n",
       "      <td>...</td>\n",
       "      <td>...</td>\n",
       "      <td>...</td>\n",
       "      <td>...</td>\n",
       "      <td>...</td>\n",
       "      <td>...</td>\n",
       "      <td>...</td>\n",
       "      <td>...</td>\n",
       "      <td>...</td>\n",
       "    </tr>\n",
       "    <tr>\n",
       "      <th>1084</th>\n",
       "      <td>2010</td>\n",
       "      <td>-0.861</td>\n",
       "      <td>0.043</td>\n",
       "      <td>-2.173</td>\n",
       "      <td>3.599</td>\n",
       "      <td>0.015</td>\n",
       "      <td>3.205160</td>\n",
       "      <td>2.969</td>\n",
       "      <td>1</td>\n",
       "      <td>1</td>\n",
       "      <td>1</td>\n",
       "    </tr>\n",
       "    <tr>\n",
       "      <th>1085</th>\n",
       "      <td>2010</td>\n",
       "      <td>2.969</td>\n",
       "      <td>-0.861</td>\n",
       "      <td>0.043</td>\n",
       "      <td>-2.173</td>\n",
       "      <td>3.599</td>\n",
       "      <td>4.242568</td>\n",
       "      <td>1.281</td>\n",
       "      <td>1</td>\n",
       "      <td>1</td>\n",
       "      <td>1</td>\n",
       "    </tr>\n",
       "    <tr>\n",
       "      <th>1086</th>\n",
       "      <td>2010</td>\n",
       "      <td>1.281</td>\n",
       "      <td>2.969</td>\n",
       "      <td>-0.861</td>\n",
       "      <td>0.043</td>\n",
       "      <td>-2.173</td>\n",
       "      <td>4.835082</td>\n",
       "      <td>0.283</td>\n",
       "      <td>1</td>\n",
       "      <td>0</td>\n",
       "      <td>0</td>\n",
       "    </tr>\n",
       "    <tr>\n",
       "      <th>1087</th>\n",
       "      <td>2010</td>\n",
       "      <td>0.283</td>\n",
       "      <td>1.281</td>\n",
       "      <td>2.969</td>\n",
       "      <td>-0.861</td>\n",
       "      <td>0.043</td>\n",
       "      <td>4.454044</td>\n",
       "      <td>1.034</td>\n",
       "      <td>1</td>\n",
       "      <td>1</td>\n",
       "      <td>1</td>\n",
       "    </tr>\n",
       "    <tr>\n",
       "      <th>1088</th>\n",
       "      <td>2010</td>\n",
       "      <td>1.034</td>\n",
       "      <td>0.283</td>\n",
       "      <td>1.281</td>\n",
       "      <td>2.969</td>\n",
       "      <td>-0.861</td>\n",
       "      <td>2.707105</td>\n",
       "      <td>0.069</td>\n",
       "      <td>1</td>\n",
       "      <td>0</td>\n",
       "      <td>0</td>\n",
       "    </tr>\n",
       "  </tbody>\n",
       "</table>\n",
       "<p>1089 rows × 11 columns</p>\n",
       "</div>"
      ],
      "text/plain": [
       "      Year   Lag1   Lag2   Lag3   Lag4   Lag5    Volume  Today  Direction  \\\n",
       "0     1990  0.816  1.572 -3.936 -0.229 -3.484  0.154976 -0.270          0   \n",
       "1     1990 -0.270  0.816  1.572 -3.936 -0.229  0.148574 -2.576          0   \n",
       "2     1990 -2.576 -0.270  0.816  1.572 -3.936  0.159837  3.514          1   \n",
       "3     1990  3.514 -2.576 -0.270  0.816  1.572  0.161630  0.712          1   \n",
       "4     1990  0.712  3.514 -2.576 -0.270  0.816  0.153728  1.178          1   \n",
       "...    ...    ...    ...    ...    ...    ...       ...    ...        ...   \n",
       "1084  2010 -0.861  0.043 -2.173  3.599  0.015  3.205160  2.969          1   \n",
       "1085  2010  2.969 -0.861  0.043 -2.173  3.599  4.242568  1.281          1   \n",
       "1086  2010  1.281  2.969 -0.861  0.043 -2.173  4.835082  0.283          1   \n",
       "1087  2010  0.283  1.281  2.969 -0.861  0.043  4.454044  1.034          1   \n",
       "1088  2010  1.034  0.283  1.281  2.969 -0.861  2.707105  0.069          1   \n",
       "\n",
       "      y_i  Response  \n",
       "0       0         0  \n",
       "1       0         0  \n",
       "2       1         1  \n",
       "3       1         1  \n",
       "4       1         1  \n",
       "...   ...       ...  \n",
       "1084    1         1  \n",
       "1085    1         1  \n",
       "1086    0         0  \n",
       "1087    1         1  \n",
       "1088    0         0  \n",
       "\n",
       "[1089 rows x 11 columns]"
      ]
     },
     "execution_count": 74,
     "metadata": {},
     "output_type": "execute_result"
    }
   ],
   "source": [
    "# run another logistic regression with a new variable\n",
    "encode = [lambda x: 1 if x>0.5 else 0]\n",
    "weekly[\"Response\"] = weekly[\"Today\"].apply(encode)\n",
    "weekly"
   ]
  },
  {
   "cell_type": "code",
   "execution_count": 75,
   "metadata": {},
   "outputs": [
    {
     "name": "stdout",
     "output_type": "stream",
     "text": [
      "Correct! You earned 1/1 points. You are a star!\n",
      "\n",
      "Your submission has been successfully recorded in the gradebook.\n"
     ]
    }
   ],
   "source": [
    "grader.grade(test_case_id = 'B1_response_test', answer = weekly)"
   ]
  },
  {
   "cell_type": "markdown",
   "metadata": {},
   "source": [
    "### B2.\n",
    "Fit a logistic regression model using a training data period from 1990 to 2008, with the five\n",
    "lag variables and volume as predictors."
   ]
  },
  {
   "cell_type": "code",
   "execution_count": 90,
   "metadata": {},
   "outputs": [
    {
     "name": "stdout",
     "output_type": "stream",
     "text": [
      "                 Generalized Linear Model Regression Results                  \n",
      "==============================================================================\n",
      "Dep. Variable:               Response   No. Observations:                  985\n",
      "Model:                            GLM   Df Residuals:                      978\n",
      "Model Family:                Binomial   Df Model:                            6\n",
      "Link Function:                  logit   Scale:                          1.0000\n",
      "Method:                          IRLS   Log-Likelihood:                -671.06\n",
      "Date:                Tue, 09 Feb 2021   Deviance:                       1342.1\n",
      "Time:                        20:53:49   Pearson chi2:                     985.\n",
      "No. Iterations:                     4                                         \n",
      "Covariance Type:            nonrobust                                         \n",
      "==============================================================================\n",
      "                 coef    std err          z      P>|z|      [0.025      0.975]\n",
      "------------------------------------------------------------------------------\n",
      "Intercept     -0.0780      0.094     -0.831      0.406      -0.262       0.106\n",
      "Lag1          -0.0737      0.029     -2.500      0.012      -0.132      -0.016\n",
      "Lag2           0.0293      0.030      0.985      0.325      -0.029       0.088\n",
      "Lag3          -0.0147      0.029     -0.503      0.615      -0.072       0.043\n",
      "Lag4          -0.0246      0.029     -0.840      0.401      -0.082       0.033\n",
      "Lag5          -0.0314      0.029     -1.072      0.284      -0.089       0.026\n",
      "Volume        -0.1039      0.055     -1.886      0.059      -0.212       0.004\n",
      "==============================================================================\n"
     ]
    }
   ],
   "source": [
    "# Train and test split\n",
    "train_filter_list =[\"1990\",\"1991\",\"1992\",\"1993\",\"1994\",\"1995\",\"1996\",\"1997\",\"1998\",\"1999\",\"2000\",\"2001\",\"2002\",\"2003\",\"2004\",\"2005\",\"2006\",\"2007\",\"2008\"]\n",
    "test_filter_list =[\"2009\",\"2010\"]\n",
    "\n",
    "train = weekly[weekly[\"Year\"].isin(train_filter_list)]\n",
    "test = weekly[weekly[\"Year\"].isin(test_filter_list)]\n",
    "\n",
    "# fit regression with training data from 1990 to 2007\n",
    "fit3 = smf.glm(\"Response~ Lag1+Lag2+Lag3+Lag4+Lag5+Volume\", data= train, family=sm.families.Binomial()).fit()\n",
    "print(fit3.summary())\n"
   ]
  },
  {
   "cell_type": "markdown",
   "metadata": {},
   "source": [
    "Pass in the regression equation to `logit_equation_B` below"
   ]
  },
  {
   "cell_type": "code",
   "execution_count": 91,
   "metadata": {},
   "outputs": [],
   "source": [
    "logit_equation_B = \"Response~Lag1+Lag2+Lag3+Lag4+Lag5+Volume\""
   ]
  },
  {
   "cell_type": "code",
   "execution_count": 92,
   "metadata": {},
   "outputs": [
    {
     "name": "stdout",
     "output_type": "stream",
     "text": [
      "Correct! You earned 2/2 points. You are a star!\n",
      "\n",
      "Your submission has been successfully recorded in the gradebook.\n"
     ]
    }
   ],
   "source": [
    "grader.grade(test_case_id = 'B2_logit_test', answer = logit_equation_B)"
   ]
  },
  {
   "cell_type": "markdown",
   "metadata": {},
   "source": [
    "### B3.\n",
    "\n",
    "Use the `summary()` function to print the results. Do any of the predictors appear to be\n",
    "statistically significant? Which predictors appear to be statistically significant?"
   ]
  },
  {
   "cell_type": "code",
   "execution_count": 94,
   "metadata": {
    "scrolled": false
   },
   "outputs": [
    {
     "name": "stdout",
     "output_type": "stream",
     "text": [
      "                 Generalized Linear Model Regression Results                  \n",
      "==============================================================================\n",
      "Dep. Variable:               Response   No. Observations:                  985\n",
      "Model:                            GLM   Df Residuals:                      978\n",
      "Model Family:                Binomial   Df Model:                            6\n",
      "Link Function:                  logit   Scale:                          1.0000\n",
      "Method:                          IRLS   Log-Likelihood:                -671.06\n",
      "Date:                Tue, 09 Feb 2021   Deviance:                       1342.1\n",
      "Time:                        20:54:21   Pearson chi2:                     985.\n",
      "No. Iterations:                     4                                         \n",
      "Covariance Type:            nonrobust                                         \n",
      "==============================================================================\n",
      "                 coef    std err          z      P>|z|      [0.025      0.975]\n",
      "------------------------------------------------------------------------------\n",
      "Intercept     -0.0780      0.094     -0.831      0.406      -0.262       0.106\n",
      "Lag1          -0.0737      0.029     -2.500      0.012      -0.132      -0.016\n",
      "Lag2           0.0293      0.030      0.985      0.325      -0.029       0.088\n",
      "Lag3          -0.0147      0.029     -0.503      0.615      -0.072       0.043\n",
      "Lag4          -0.0246      0.029     -0.840      0.401      -0.082       0.033\n",
      "Lag5          -0.0314      0.029     -1.072      0.284      -0.089       0.026\n",
      "Volume        -0.1039      0.055     -1.886      0.059      -0.212       0.004\n",
      "==============================================================================\n"
     ]
    }
   ],
   "source": [
    "print(fit3.summary())"
   ]
  },
  {
   "cell_type": "markdown",
   "metadata": {},
   "source": [
    "Type the number of apparently significant variables into `num_significant_B` and the names of the variables into the list `var_significant_B` -- the test case will only give points if both variables are correct!"
   ]
  },
  {
   "cell_type": "code",
   "execution_count": 96,
   "metadata": {},
   "outputs": [],
   "source": [
    "num_significant_B = 1\n",
    "var_significant_B = [\"Lag1\"] # This has to be a list!"
   ]
  },
  {
   "cell_type": "code",
   "execution_count": 97,
   "metadata": {},
   "outputs": [
    {
     "name": "stdout",
     "output_type": "stream",
     "text": [
      "Correct! You earned 2/2 points. You are a star!\n",
      "\n",
      "Your submission has been successfully recorded in the gradebook.\n"
     ]
    }
   ],
   "source": [
    "grader.grade(test_case_id = 'B3_significant_test', answer = (num_significant_B, var_significant_B))"
   ]
  },
  {
   "cell_type": "markdown",
   "metadata": {},
   "source": [
    "### B4. \n",
    "\n",
    "Compute the overall fraction of correct predictions for the held out data (that is, the data\n",
    "from 2009 and 2010). Assign this value to the variable `fraction_correct`. What is the\n",
    "overall fraction of correct predictions?"
   ]
  },
  {
   "cell_type": "code",
   "execution_count": 98,
   "metadata": {},
   "outputs": [
    {
     "name": "stdout",
     "output_type": "stream",
     "text": [
      "-------\n",
      "985     0.274179\n",
      "986     0.478373\n",
      "987     0.358876\n",
      "988     0.323691\n",
      "989     0.330751\n",
      "          ...   \n",
      "1084    0.400585\n",
      "1085    0.305142\n",
      "1086    0.375705\n",
      "1087    0.366345\n",
      "1088    0.379430\n",
      "Length: 104, dtype: float64\n"
     ]
    }
   ],
   "source": [
    "# find the predictions for each line in the test set\n",
    "yprobs = fit3.predict(test)\n",
    "print(\"-------\")\n",
    "print(yprobs)\n",
    "\n",
    "\n",
    "# calculate predictions on test set\n",
    "ypred = [0 if y<0.5 else 1 for y in yprobs]\n",
    "\n",
    "\n",
    "# print accuracy score\n",
    "fraction_correct = accuracy_score(test[\"Response\"],ypred)"
   ]
  },
  {
   "cell_type": "code",
   "execution_count": 99,
   "metadata": {},
   "outputs": [
    {
     "name": "stdout",
     "output_type": "stream",
     "text": [
      "Overall fraction of correct predictions is 0.5\n"
     ]
    }
   ],
   "source": [
    "print(f'Overall fraction of correct predictions is {fraction_correct}')"
   ]
  },
  {
   "cell_type": "code",
   "execution_count": 100,
   "metadata": {},
   "outputs": [
    {
     "name": "stdout",
     "output_type": "stream",
     "text": [
      "Correct! You earned 2/2 points. You are a star!\n",
      "\n",
      "Your submission has been successfully recorded in the gradebook.\n"
     ]
    }
   ],
   "source": [
    "grader.grade(test_case_id = 'B4_fraction_test', answer = fraction_correct)"
   ]
  },
  {
   "cell_type": "markdown",
   "metadata": {},
   "source": [
    "## Submit\n",
    "\n",
    "You're done! Please make sure you've run all the PennGrader cells and count up your score to be sure (there are 20 points in total) and then make sure to submit this on Codio."
   ]
  }
 ],
 "metadata": {
  "kernelspec": {
   "display_name": "Python 3",
   "language": "python",
   "name": "python3"
  },
  "language_info": {
   "codemirror_mode": {
    "name": "ipython",
    "version": 3
   },
   "file_extension": ".py",
   "mimetype": "text/x-python",
   "name": "python",
   "nbconvert_exporter": "python",
   "pygments_lexer": "ipython3",
   "version": "3.8.3"
  }
 },
 "nbformat": 4,
 "nbformat_minor": 2
}
